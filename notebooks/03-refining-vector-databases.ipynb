{
 "cells": [
  {
   "cell_type": "markdown",
   "id": "3e89c5b3",
   "metadata": {},
   "source": [
    "<img align=\"left\" src=\"https://ithaka-labs.s3.amazonaws.com/static-files/images/tdm/tdmdocs/tapi-logo-small.png\" />\n",
    "\n",
    "This notebook free for educational reuse under [Creative Commons CC BY License](https://creativecommons.org/licenses/by/4.0/).\n",
    "\n",
    "Created by [Firstname Lastname](https://) for the 2024 Text Analysis Pedagogy Institute, with support from [Constellate](https://constellate.org).\n",
    "\n",
    "For questions/comments/improvements, email author@email.address.<br />\n",
    "____"
   ]
  },
  {
   "cell_type": "markdown",
   "id": "68f932d1",
   "metadata": {},
   "source": [
    "# `Introduction to Semantic Search and Vector Databases` `1`\n",
    "\n",
    "This is lesson `1` of 3 in the educational series on `Semantic Search and Vector Databases`. This notebook is intended `to teach the basic concepts of vector databases`.\n",
    "\n",
    "**Skills:** \n",
    "* Data analysis\n",
    "* Machine learning\n",
    "* Text analysis\n",
    "* spaCy\n",
    "* Vector databases\n",
    "* Semantic search\n",
    "* Python\n",
    "\n",
    "**Audience:** `Teachers` / `Learners` / `Researchers`\n",
    "\n",
    "**Use case:** `Tutorial` / `How-To` / `Explanation` \n",
    "\n",
    "`Include the use case definition from [here](https://constellate.org/docs/documentation-categories)`\n",
    "\n",
    "**Difficulty:** `Intermediate`\n",
    "\n",
    "`Beginner assumes users are relatively new to Python and Jupyter Notebooks. The user is helped step-by-step with lots of explanatory text.`\n",
    "`Intermediate assumes users are familiar with Python and have been programming for 6+ months. Code makes up a larger part of the notebook and basic concepts related to Python are not explained.`\n",
    "`Advanced assumes users are very familiar with Python and have been programming for years, but they may not be familiar with the process being explained.`\n",
    "\n",
    "**Completion time:** `90 minutes`\n",
    "\n",
    "**Knowledge Required:** \n",
    "```\n",
    "* Python basics (variables, flow control, functions, lists, dictionaries)\n",
    "* Object-oriented programming (classes, instances, inheritance)\n",
    "* Regular Expressions (`re`, character classes)\n",
    "\n",
    "These should be general skills but can mention a particular library\n",
    "```\n",
    "\n",
    "**Knowledge Recommended:**\n",
    "```\n",
    "* Basic file operations (open, close, read, write)\n",
    "* Data cleaning with `Pandas`\n",
    "```\n",
    "\n",
    "**Learning Objectives:**\n",
    "After this lesson, learners will be able to:\n",
    "```\n",
    "1. Describe and implement an XXXX for XXXX\n",
    "2. Convert XXXX into XXXX for the purpose of XXXX\n",
    "3. Develop a workflow in order to XXXX\n",
    "4. Be familiar with XXXXX resources for pursuing the topic\n",
    "```\n",
    "**Research Pipeline:**\n",
    "```\n",
    "1. Research steps before this notebook\n",
    "2. **The skills in this notebook**\n",
    "3. Steps after this notebook\n",
    "4. Final steps\n",
    "```\n",
    "___"
   ]
  },
  {
   "cell_type": "markdown",
   "id": "157c0555",
   "metadata": {},
   "source": [
    "# Required Python Libraries\n",
    "`List out any libraries used and what they are used for`\n",
    "* [Tesseract](https://tesseract-ocr.github.io/) for performing [optical character recognition](https://docs.constellate.org/key-terms/#ocr).\n",
    "* [Pandas](https://pandas.pydata.org/) for manipulating and cleaning data.\n",
    "* [Pdf2image](https://pdf2image.readthedocs.io/en/latest/) for converting pdf files into image files.\n",
    "\n",
    "## Install Required Libraries"
   ]
  },
  {
   "cell_type": "code",
   "execution_count": 43,
   "id": "e8a220f5",
   "metadata": {},
   "outputs": [
    {
     "name": "stderr",
     "output_type": "stream",
     "text": [
      "huggingface/tokenizers: The current process just got forked, after parallelism has already been used. Disabling parallelism to avoid deadlocks...\n",
      "To disable this warning, you can either:\n",
      "\t- Avoid using `tokenizers` before the fork if possible\n",
      "\t- Explicitly set the environment variable TOKENIZERS_PARALLELISM=(true | false)\n"
     ]
    },
    {
     "name": "stdout",
     "output_type": "stream",
     "text": [
      "Requirement already satisfied: txtai in /Applications/anaconda3/envs/txtai3/lib/python3.10/site-packages (7.3.0)\n",
      "Requirement already satisfied: spacy in /Applications/anaconda3/envs/txtai3/lib/python3.10/site-packages (3.7.5)\n",
      "Requirement already satisfied: tqdm in /Applications/anaconda3/envs/txtai3/lib/python3.10/site-packages (4.66.4)\n",
      "Requirement already satisfied: pandas in /Applications/anaconda3/envs/txtai3/lib/python3.10/site-packages (2.2.2)\n",
      "Requirement already satisfied: annoy in /Applications/anaconda3/envs/txtai3/lib/python3.10/site-packages (1.17.3)\n",
      "Requirement already satisfied: sentence-transformers in /Applications/anaconda3/envs/txtai3/lib/python3.10/site-packages (3.0.1)\n",
      "Requirement already satisfied: pillow in /Applications/anaconda3/envs/txtai3/lib/python3.10/site-packages (10.4.0)\n",
      "Collecting weaviate-client\n",
      "  Downloading weaviate_client-4.7.1-py3-none-any.whl.metadata (3.3 kB)\n",
      "Requirement already satisfied: faiss-cpu>=1.7.1.post2 in /Applications/anaconda3/envs/txtai3/lib/python3.10/site-packages (from txtai) (1.8.0.post1)\n",
      "Requirement already satisfied: torch>=1.12.1 in /Applications/anaconda3/envs/txtai3/lib/python3.10/site-packages (from txtai) (2.4.0)\n",
      "Requirement already satisfied: transformers>=4.28.0 in /Applications/anaconda3/envs/txtai3/lib/python3.10/site-packages (from txtai) (4.43.2)\n",
      "Requirement already satisfied: huggingface-hub>=0.9.0 in /Applications/anaconda3/envs/txtai3/lib/python3.10/site-packages (from txtai) (0.24.2)\n",
      "Requirement already satisfied: numpy>=1.18.4 in /Applications/anaconda3/envs/txtai3/lib/python3.10/site-packages (from txtai) (1.26.4)\n",
      "Requirement already satisfied: pyyaml>=5.3 in /Applications/anaconda3/envs/txtai3/lib/python3.10/site-packages (from txtai) (6.0.1)\n",
      "Requirement already satisfied: regex>=2022.8.17 in /Applications/anaconda3/envs/txtai3/lib/python3.10/site-packages (from txtai) (2024.7.24)\n",
      "Requirement already satisfied: spacy-legacy<3.1.0,>=3.0.11 in /Applications/anaconda3/envs/txtai3/lib/python3.10/site-packages (from spacy) (3.0.12)\n",
      "Requirement already satisfied: spacy-loggers<2.0.0,>=1.0.0 in /Applications/anaconda3/envs/txtai3/lib/python3.10/site-packages (from spacy) (1.0.5)\n",
      "Requirement already satisfied: murmurhash<1.1.0,>=0.28.0 in /Applications/anaconda3/envs/txtai3/lib/python3.10/site-packages (from spacy) (1.0.10)\n",
      "Requirement already satisfied: cymem<2.1.0,>=2.0.2 in /Applications/anaconda3/envs/txtai3/lib/python3.10/site-packages (from spacy) (2.0.8)\n",
      "Requirement already satisfied: preshed<3.1.0,>=3.0.2 in /Applications/anaconda3/envs/txtai3/lib/python3.10/site-packages (from spacy) (3.0.9)\n",
      "Requirement already satisfied: thinc<8.3.0,>=8.2.2 in /Applications/anaconda3/envs/txtai3/lib/python3.10/site-packages (from spacy) (8.2.5)\n",
      "Requirement already satisfied: wasabi<1.2.0,>=0.9.1 in /Applications/anaconda3/envs/txtai3/lib/python3.10/site-packages (from spacy) (1.1.3)\n",
      "Requirement already satisfied: srsly<3.0.0,>=2.4.3 in /Applications/anaconda3/envs/txtai3/lib/python3.10/site-packages (from spacy) (2.4.8)\n",
      "Requirement already satisfied: catalogue<2.1.0,>=2.0.6 in /Applications/anaconda3/envs/txtai3/lib/python3.10/site-packages (from spacy) (2.0.10)\n",
      "Requirement already satisfied: weasel<0.5.0,>=0.1.0 in /Applications/anaconda3/envs/txtai3/lib/python3.10/site-packages (from spacy) (0.4.1)\n",
      "Requirement already satisfied: typer<1.0.0,>=0.3.0 in /Applications/anaconda3/envs/txtai3/lib/python3.10/site-packages (from spacy) (0.12.3)\n",
      "Requirement already satisfied: requests<3.0.0,>=2.13.0 in /Applications/anaconda3/envs/txtai3/lib/python3.10/site-packages (from spacy) (2.32.3)\n",
      "Requirement already satisfied: pydantic!=1.8,!=1.8.1,<3.0.0,>=1.7.4 in /Applications/anaconda3/envs/txtai3/lib/python3.10/site-packages (from spacy) (2.8.2)\n",
      "Requirement already satisfied: jinja2 in /Applications/anaconda3/envs/txtai3/lib/python3.10/site-packages (from spacy) (3.1.4)\n",
      "Requirement already satisfied: setuptools in /Applications/anaconda3/envs/txtai3/lib/python3.10/site-packages (from spacy) (69.5.1)\n",
      "Requirement already satisfied: packaging>=20.0 in /Applications/anaconda3/envs/txtai3/lib/python3.10/site-packages (from spacy) (24.1)\n",
      "Requirement already satisfied: langcodes<4.0.0,>=3.2.0 in /Applications/anaconda3/envs/txtai3/lib/python3.10/site-packages (from spacy) (3.4.0)\n",
      "Requirement already satisfied: python-dateutil>=2.8.2 in /Applications/anaconda3/envs/txtai3/lib/python3.10/site-packages (from pandas) (2.9.0.post0)\n",
      "Requirement already satisfied: pytz>=2020.1 in /Applications/anaconda3/envs/txtai3/lib/python3.10/site-packages (from pandas) (2024.1)\n",
      "Requirement already satisfied: tzdata>=2022.7 in /Applications/anaconda3/envs/txtai3/lib/python3.10/site-packages (from pandas) (2024.1)\n",
      "Requirement already satisfied: scikit-learn in /Applications/anaconda3/envs/txtai3/lib/python3.10/site-packages (from sentence-transformers) (1.5.1)\n",
      "Requirement already satisfied: scipy in /Applications/anaconda3/envs/txtai3/lib/python3.10/site-packages (from sentence-transformers) (1.14.0)\n",
      "Requirement already satisfied: httpx<=0.27.0,>=0.25.0 in /Applications/anaconda3/envs/txtai3/lib/python3.10/site-packages (from weaviate-client) (0.27.0)\n",
      "Collecting validators==0.33.0 (from weaviate-client)\n",
      "  Downloading validators-0.33.0-py3-none-any.whl.metadata (3.8 kB)\n",
      "Collecting authlib<2.0.0,>=1.2.1 (from weaviate-client)\n",
      "  Using cached Authlib-1.3.1-py2.py3-none-any.whl.metadata (3.8 kB)\n",
      "Collecting grpcio<2.0.0,>=1.57.0 (from weaviate-client)\n",
      "  Downloading grpcio-1.65.1-cp310-cp310-macosx_12_0_universal2.whl.metadata (3.3 kB)\n",
      "Collecting grpcio-tools<2.0.0,>=1.57.0 (from weaviate-client)\n",
      "  Downloading grpcio_tools-1.65.1-cp310-cp310-macosx_12_0_universal2.whl.metadata (5.3 kB)\n",
      "Collecting grpcio-health-checking<2.0.0,>=1.57.0 (from weaviate-client)\n",
      "  Downloading grpcio_health_checking-1.65.1-py3-none-any.whl.metadata (1.1 kB)\n",
      "Collecting cryptography (from authlib<2.0.0,>=1.2.1->weaviate-client)\n",
      "  Downloading cryptography-43.0.0-cp39-abi3-macosx_10_9_universal2.whl.metadata (5.4 kB)\n",
      "Collecting protobuf<6.0dev,>=5.26.1 (from grpcio-health-checking<2.0.0,>=1.57.0->weaviate-client)\n",
      "  Using cached protobuf-5.27.2-cp38-abi3-macosx_10_9_universal2.whl.metadata (592 bytes)\n",
      "Requirement already satisfied: anyio in /Applications/anaconda3/envs/txtai3/lib/python3.10/site-packages (from httpx<=0.27.0,>=0.25.0->weaviate-client) (4.4.0)\n",
      "Requirement already satisfied: certifi in /Applications/anaconda3/envs/txtai3/lib/python3.10/site-packages (from httpx<=0.27.0,>=0.25.0->weaviate-client) (2024.7.4)\n",
      "Requirement already satisfied: httpcore==1.* in /Applications/anaconda3/envs/txtai3/lib/python3.10/site-packages (from httpx<=0.27.0,>=0.25.0->weaviate-client) (1.0.5)\n",
      "Requirement already satisfied: idna in /Applications/anaconda3/envs/txtai3/lib/python3.10/site-packages (from httpx<=0.27.0,>=0.25.0->weaviate-client) (3.7)\n",
      "Requirement already satisfied: sniffio in /Applications/anaconda3/envs/txtai3/lib/python3.10/site-packages (from httpx<=0.27.0,>=0.25.0->weaviate-client) (1.3.1)\n",
      "Requirement already satisfied: h11<0.15,>=0.13 in /Applications/anaconda3/envs/txtai3/lib/python3.10/site-packages (from httpcore==1.*->httpx<=0.27.0,>=0.25.0->weaviate-client) (0.14.0)\n",
      "Requirement already satisfied: filelock in /Applications/anaconda3/envs/txtai3/lib/python3.10/site-packages (from huggingface-hub>=0.9.0->txtai) (3.15.4)\n",
      "Requirement already satisfied: fsspec>=2023.5.0 in /Applications/anaconda3/envs/txtai3/lib/python3.10/site-packages (from huggingface-hub>=0.9.0->txtai) (2024.6.1)\n",
      "Requirement already satisfied: typing-extensions>=3.7.4.3 in /Applications/anaconda3/envs/txtai3/lib/python3.10/site-packages (from huggingface-hub>=0.9.0->txtai) (4.12.2)\n",
      "Requirement already satisfied: language-data>=1.2 in /Applications/anaconda3/envs/txtai3/lib/python3.10/site-packages (from langcodes<4.0.0,>=3.2.0->spacy) (1.2.0)\n",
      "Requirement already satisfied: annotated-types>=0.4.0 in /Applications/anaconda3/envs/txtai3/lib/python3.10/site-packages (from pydantic!=1.8,!=1.8.1,<3.0.0,>=1.7.4->spacy) (0.7.0)\n",
      "Requirement already satisfied: pydantic-core==2.20.1 in /Applications/anaconda3/envs/txtai3/lib/python3.10/site-packages (from pydantic!=1.8,!=1.8.1,<3.0.0,>=1.7.4->spacy) (2.20.1)\n",
      "Requirement already satisfied: six>=1.5 in /Applications/anaconda3/envs/txtai3/lib/python3.10/site-packages (from python-dateutil>=2.8.2->pandas) (1.16.0)\n",
      "Requirement already satisfied: charset-normalizer<4,>=2 in /Applications/anaconda3/envs/txtai3/lib/python3.10/site-packages (from requests<3.0.0,>=2.13.0->spacy) (3.3.2)\n",
      "Requirement already satisfied: urllib3<3,>=1.21.1 in /Applications/anaconda3/envs/txtai3/lib/python3.10/site-packages (from requests<3.0.0,>=2.13.0->spacy) (2.2.2)\n",
      "Requirement already satisfied: blis<0.8.0,>=0.7.8 in /Applications/anaconda3/envs/txtai3/lib/python3.10/site-packages (from thinc<8.3.0,>=8.2.2->spacy) (0.7.11)\n",
      "Requirement already satisfied: confection<1.0.0,>=0.0.1 in /Applications/anaconda3/envs/txtai3/lib/python3.10/site-packages (from thinc<8.3.0,>=8.2.2->spacy) (0.1.5)\n",
      "Requirement already satisfied: sympy in /Applications/anaconda3/envs/txtai3/lib/python3.10/site-packages (from torch>=1.12.1->txtai) (1.13.1)\n",
      "Requirement already satisfied: networkx in /Applications/anaconda3/envs/txtai3/lib/python3.10/site-packages (from torch>=1.12.1->txtai) (3.3)\n",
      "Requirement already satisfied: tokenizers<0.20,>=0.19 in /Applications/anaconda3/envs/txtai3/lib/python3.10/site-packages (from transformers>=4.28.0->txtai) (0.19.1)\n",
      "Requirement already satisfied: safetensors>=0.4.1 in /Applications/anaconda3/envs/txtai3/lib/python3.10/site-packages (from transformers>=4.28.0->txtai) (0.4.3)\n",
      "Requirement already satisfied: click>=8.0.0 in /Applications/anaconda3/envs/txtai3/lib/python3.10/site-packages (from typer<1.0.0,>=0.3.0->spacy) (8.1.7)\n",
      "Requirement already satisfied: shellingham>=1.3.0 in /Applications/anaconda3/envs/txtai3/lib/python3.10/site-packages (from typer<1.0.0,>=0.3.0->spacy) (1.5.4)\n",
      "Requirement already satisfied: rich>=10.11.0 in /Applications/anaconda3/envs/txtai3/lib/python3.10/site-packages (from typer<1.0.0,>=0.3.0->spacy) (13.7.1)\n",
      "Requirement already satisfied: cloudpathlib<1.0.0,>=0.7.0 in /Applications/anaconda3/envs/txtai3/lib/python3.10/site-packages (from weasel<0.5.0,>=0.1.0->spacy) (0.18.1)\n",
      "Requirement already satisfied: smart-open<8.0.0,>=5.2.1 in /Applications/anaconda3/envs/txtai3/lib/python3.10/site-packages (from weasel<0.5.0,>=0.1.0->spacy) (7.0.4)\n",
      "Requirement already satisfied: MarkupSafe>=2.0 in /Applications/anaconda3/envs/txtai3/lib/python3.10/site-packages (from jinja2->spacy) (2.1.5)\n",
      "Requirement already satisfied: joblib>=1.2.0 in /Applications/anaconda3/envs/txtai3/lib/python3.10/site-packages (from scikit-learn->sentence-transformers) (1.4.2)\n",
      "Requirement already satisfied: threadpoolctl>=3.1.0 in /Applications/anaconda3/envs/txtai3/lib/python3.10/site-packages (from scikit-learn->sentence-transformers) (3.5.0)\n",
      "Requirement already satisfied: marisa-trie>=0.7.7 in /Applications/anaconda3/envs/txtai3/lib/python3.10/site-packages (from language-data>=1.2->langcodes<4.0.0,>=3.2.0->spacy) (1.2.0)\n",
      "Requirement already satisfied: markdown-it-py>=2.2.0 in /Applications/anaconda3/envs/txtai3/lib/python3.10/site-packages (from rich>=10.11.0->typer<1.0.0,>=0.3.0->spacy) (3.0.0)\n",
      "Requirement already satisfied: pygments<3.0.0,>=2.13.0 in /Applications/anaconda3/envs/txtai3/lib/python3.10/site-packages (from rich>=10.11.0->typer<1.0.0,>=0.3.0->spacy) (2.18.0)\n",
      "Requirement already satisfied: wrapt in /Applications/anaconda3/envs/txtai3/lib/python3.10/site-packages (from smart-open<8.0.0,>=5.2.1->weasel<0.5.0,>=0.1.0->spacy) (1.16.0)\n",
      "Requirement already satisfied: exceptiongroup>=1.0.2 in /Applications/anaconda3/envs/txtai3/lib/python3.10/site-packages (from anyio->httpx<=0.27.0,>=0.25.0->weaviate-client) (1.2.2)\n",
      "Requirement already satisfied: cffi>=1.12 in /Applications/anaconda3/envs/txtai3/lib/python3.10/site-packages (from cryptography->authlib<2.0.0,>=1.2.1->weaviate-client) (1.16.0)\n",
      "Requirement already satisfied: mpmath<1.4,>=1.1.0 in /Applications/anaconda3/envs/txtai3/lib/python3.10/site-packages (from sympy->torch>=1.12.1->txtai) (1.3.0)\n",
      "Requirement already satisfied: pycparser in /Applications/anaconda3/envs/txtai3/lib/python3.10/site-packages (from cffi>=1.12->cryptography->authlib<2.0.0,>=1.2.1->weaviate-client) (2.22)\n",
      "Requirement already satisfied: mdurl~=0.1 in /Applications/anaconda3/envs/txtai3/lib/python3.10/site-packages (from markdown-it-py>=2.2.0->rich>=10.11.0->typer<1.0.0,>=0.3.0->spacy) (0.1.2)\n",
      "Downloading weaviate_client-4.7.1-py3-none-any.whl (368 kB)\n",
      "\u001b[2K   \u001b[90m━━━━━━━━━━━━━━━━━━━━━━━━━━━━━━━━━━━━━━━━\u001b[0m \u001b[32m368.3/368.3 kB\u001b[0m \u001b[31m6.3 MB/s\u001b[0m eta \u001b[36m0:00:00\u001b[0ma \u001b[36m0:00:01\u001b[0m\n",
      "\u001b[?25hDownloading validators-0.33.0-py3-none-any.whl (43 kB)\n",
      "\u001b[2K   \u001b[90m━━━━━━━━━━━━━━━━━━━━━━━━━━━━━━━━━━━━━━━━\u001b[0m \u001b[32m43.3/43.3 kB\u001b[0m \u001b[31m4.4 MB/s\u001b[0m eta \u001b[36m0:00:00\u001b[0m\n",
      "\u001b[?25hUsing cached Authlib-1.3.1-py2.py3-none-any.whl (223 kB)\n",
      "Downloading grpcio-1.65.1-cp310-cp310-macosx_12_0_universal2.whl (10.4 MB)\n",
      "\u001b[2K   \u001b[90m━━━━━━━━━━━━━━━━━━━━━━━━━━━━━━━━━━━━━━━━\u001b[0m \u001b[32m10.4/10.4 MB\u001b[0m \u001b[31m60.4 MB/s\u001b[0m eta \u001b[36m0:00:00\u001b[0m \u001b[36m0:00:01\u001b[0m\n",
      "\u001b[?25hDownloading grpcio_health_checking-1.65.1-py3-none-any.whl (18 kB)\n",
      "Downloading grpcio_tools-1.65.1-cp310-cp310-macosx_12_0_universal2.whl (5.3 MB)\n",
      "\u001b[2K   \u001b[90m━━━━━━━━━━━━━━━━━━━━━━━━━━━━━━━━━━━━━━━━\u001b[0m \u001b[32m5.3/5.3 MB\u001b[0m \u001b[31m36.2 MB/s\u001b[0m eta \u001b[36m0:00:00\u001b[0ma \u001b[36m0:00:01\u001b[0m\n",
      "\u001b[?25hUsing cached protobuf-5.27.2-cp38-abi3-macosx_10_9_universal2.whl (412 kB)\n",
      "Downloading cryptography-43.0.0-cp39-abi3-macosx_10_9_universal2.whl (6.2 MB)\n",
      "\u001b[2K   \u001b[90m━━━━━━━━━━━━━━━━━━━━━━━━━━━━━━━━━━━━━━━━\u001b[0m \u001b[32m6.2/6.2 MB\u001b[0m \u001b[31m62.8 MB/s\u001b[0m eta \u001b[36m0:00:00\u001b[0ma \u001b[36m0:00:01\u001b[0m\n",
      "\u001b[?25hInstalling collected packages: validators, protobuf, grpcio, grpcio-tools, grpcio-health-checking, cryptography, authlib, weaviate-client\n",
      "Successfully installed authlib-1.3.1 cryptography-43.0.0 grpcio-1.65.1 grpcio-health-checking-1.65.1 grpcio-tools-1.65.1 protobuf-5.27.2 validators-0.33.0 weaviate-client-4.7.1\n"
     ]
    }
   ],
   "source": [
    "### Install Libraries ###\n",
    "\n",
    "# Using !pip installs\n",
    "!pip install txtai spacy tqdm pandas annoy sentence-transformers pillow weaviate-client"
   ]
  },
  {
   "cell_type": "code",
   "execution_count": 1,
   "id": "707c9e63",
   "metadata": {},
   "outputs": [],
   "source": [
    "# https://github.com/neuml/txtai/issues/685\n",
    "import os\n",
    "os.environ['KMP_DUPLICATE_LIB_OK'] = 'True'"
   ]
  },
  {
   "cell_type": "code",
   "execution_count": 2,
   "id": "5480e2a8",
   "metadata": {},
   "outputs": [],
   "source": [
    "### Import Libraries ###\n",
    "from txtai.embeddings import Embeddings\n",
    "import srsly\n",
    "import pandas as pd\n",
    "from tqdm import tqdm\n",
    "import spacy\n",
    "\n",
    "from sentence_transformers import SentenceTransformer\n",
    "import glob\n",
    "from PIL import Image\n",
    "from annoy import AnnoyIndex"
   ]
  },
  {
   "cell_type": "markdown",
   "id": "f53edaa2",
   "metadata": {},
   "source": [
    "# Introduction\n",
    "\n",
    "In this notebook, we will build on our previous knowledge from the last notebook. We will learn how to create vector databases again, but this time with a different framework: `txtai`. The big advantage of `txtai` is that it handles a lot of the complex issues for you automatically. It also comes with a suite of extra tools for handling more complex tasks. Want to know `why` certain results are returned the way they are? Txtai can handle that. Want to use your vector database to create a retrieval augmented generation (RAG) system? Txtai can handle that.\n",
    "\n",
    "While we worked solely with texts in the last notebook, in this notebook we will also learn about an important concept in both vector databases and semantic searching: multimodality. This allows us to create vector databases that store not only text, but also images or other forms of data. We will learn how we create multimodal vector databases and, most importantly, how to query them. In this notebook, we will create a vector databases of images and query them with raw text.\n",
    "\n",
    "Finally, I'd like for you to leave this course with a basic understanding of the next steps. What do you do with this knowledge? How do you build systems that can function not only at scale, but in the cloud? We will answer these questions as we explore Weaviate, a cloud-based open-source vector database solution."
   ]
  },
  {
   "cell_type": "markdown",
   "id": "bc6711e4",
   "metadata": {},
   "source": [
    "# Loading our Data\n",
    "\n",
    "As we did in the last notebook, we will begin with the same data: small sample from Founders Online. This is a random collection of 1,000 texts from the archive. Let's go ahead and load it up, just as we did before."
   ]
  },
  {
   "cell_type": "code",
   "execution_count": 3,
   "id": "92bf0216",
   "metadata": {},
   "outputs": [],
   "source": [
    "data = list(srsly.read_json(\"../data/processed/sample_1000_42.json\"))"
   ]
  },
  {
   "cell_type": "markdown",
   "id": "6016fdbb",
   "metadata": {},
   "source": [
    "Now that we have our data loaded, let's go ahead and examine it. Let's take a look at the first index."
   ]
  },
  {
   "cell_type": "code",
   "execution_count": 21,
   "id": "ea6f56b6",
   "metadata": {},
   "outputs": [
    {
     "data": {
      "text/plain": [
       "{'title': 'Thomas Jefferson to Joseph Milligan, 22 December 1815',\n",
       " 'permalink': 'https://founders.archives.gov/documents/Jefferson/03-09-02-0174',\n",
       " 'project': 'Jefferson Papers',\n",
       " 'authors': ['Jefferson, Thomas'],\n",
       " 'recipients': ['Milligan, Joseph'],\n",
       " 'date-from': '1815-12-22',\n",
       " 'date-to': '1815-12-22',\n",
       " 'content': 'Monticello Dec. 22. 15.\\nDear Sir\\nOn my return here from Bedford a few days ago, I found the Hutton and Requisite tables, bound to my mind. by this mail I send you an Ovid’s metamorphoses almost entirely worne out & defaced, yet of sovaluable and rareaneditionthat I wish you to put it into as good a state of repair as it is susceptible of. by the next mail I will forward a Cornelius Nepos to be bound. be so good as to procure and forward to me by stage the underwritten books.I salute you with friendship & esteem\\nTh: Jefferson\\nAinsworth’sLat. & Eng. dict. abridged. to be bound[. . .]\\nthe Lat. & Eng in one, & the Eng. & Lat.[. . .]\\nOvid’s metamorphoses. the Delphin edn in 8vo\\nCornelius Nepos. the Delphin edn if to be had; if not some other good one.\\nVirgil. the Delphin edn lately printed in Phil. with English notes.\\nMair’s Tyro’s dictionary.\\nI observe a mrRichardsonadvertises in the National Intelligencer the Scientific dialogues: if the edition be compleat comprehending theChemical part, I should be glad to have it'}"
      ]
     },
     "execution_count": 21,
     "metadata": {},
     "output_type": "execute_result"
    }
   ],
   "source": [
    "data[0]"
   ]
  },
  {
   "cell_type": "markdown",
   "id": "426b004f",
   "metadata": {},
   "source": [
    "As we saw in the last notebook, we want to access the `content` field which contains the raw text of the archive document. To make things easier to work with, let's convert this dataset into a Pandas DataFrame."
   ]
  },
  {
   "cell_type": "code",
   "execution_count": 4,
   "id": "5863d7d6",
   "metadata": {},
   "outputs": [],
   "source": [
    "df = pd.DataFrame(data)"
   ]
  },
  {
   "cell_type": "markdown",
   "id": "b6152de8",
   "metadata": {},
   "source": [
    "And now, let's take a look at this DataFrame."
   ]
  },
  {
   "cell_type": "code",
   "execution_count": 5,
   "id": "36e04504",
   "metadata": {},
   "outputs": [
    {
     "data": {
      "text/html": [
       "<div>\n",
       "<style scoped>\n",
       "    .dataframe tbody tr th:only-of-type {\n",
       "        vertical-align: middle;\n",
       "    }\n",
       "\n",
       "    .dataframe tbody tr th {\n",
       "        vertical-align: top;\n",
       "    }\n",
       "\n",
       "    .dataframe thead th {\n",
       "        text-align: right;\n",
       "    }\n",
       "</style>\n",
       "<table border=\"1\" class=\"dataframe\">\n",
       "  <thead>\n",
       "    <tr style=\"text-align: right;\">\n",
       "      <th></th>\n",
       "      <th>title</th>\n",
       "      <th>permalink</th>\n",
       "      <th>project</th>\n",
       "      <th>authors</th>\n",
       "      <th>recipients</th>\n",
       "      <th>date-from</th>\n",
       "      <th>date-to</th>\n",
       "      <th>content</th>\n",
       "    </tr>\n",
       "  </thead>\n",
       "  <tbody>\n",
       "    <tr>\n",
       "      <th>0</th>\n",
       "      <td>Thomas Jefferson to Joseph Milligan, 22 Decemb...</td>\n",
       "      <td>https://founders.archives.gov/documents/Jeffer...</td>\n",
       "      <td>Jefferson Papers</td>\n",
       "      <td>[Jefferson, Thomas]</td>\n",
       "      <td>[Milligan, Joseph]</td>\n",
       "      <td>1815-12-22</td>\n",
       "      <td>1815-12-22</td>\n",
       "      <td>Monticello Dec. 22. 15.\\nDear Sir\\nOn my retur...</td>\n",
       "    </tr>\n",
       "    <tr>\n",
       "      <th>1</th>\n",
       "      <td>To Alexander Hamilton from James McHenry, 3 Ma...</td>\n",
       "      <td>https://founders.archives.gov/documents/Hamilt...</td>\n",
       "      <td>Hamilton Papers</td>\n",
       "      <td>[McHenry, James]</td>\n",
       "      <td>[Hamilton, Alexander]</td>\n",
       "      <td>1791-05-03</td>\n",
       "      <td>1791-05-03</td>\n",
       "      <td>[Baltimore] 3 May 1791.\\nMy dear Sir.\\nI did n...</td>\n",
       "    </tr>\n",
       "    <tr>\n",
       "      <th>2</th>\n",
       "      <td>John Adams to John Quincy Adams and Thomas Boy...</td>\n",
       "      <td>https://founders.archives.gov/documents/Adams/...</td>\n",
       "      <td>Adams Papers</td>\n",
       "      <td>[Adams, John]</td>\n",
       "      <td>[Adams, John Quincy, Adams, Thomas Boylston]</td>\n",
       "      <td>1794-09-14</td>\n",
       "      <td>1794-09-14</td>\n",
       "      <td>Quincy Septr.14. 1794\\nMy dear Sons\\nI once mo...</td>\n",
       "    </tr>\n",
       "    <tr>\n",
       "      <th>3</th>\n",
       "      <td>From George Washington to Major General Horati...</td>\n",
       "      <td>https://founders.archives.gov/documents/Washin...</td>\n",
       "      <td>Washington Papers</td>\n",
       "      <td>[Washington, George]</td>\n",
       "      <td>[Gates, Horatio]</td>\n",
       "      <td>1776-12-23</td>\n",
       "      <td>1776-12-23</td>\n",
       "      <td>Head Quarters [Bucks County, Pa.] 23d Decr 177...</td>\n",
       "    </tr>\n",
       "    <tr>\n",
       "      <th>4</th>\n",
       "      <td>[Diary entry: 5 July 1795]</td>\n",
       "      <td>https://founders.archives.gov/documents/Washin...</td>\n",
       "      <td>Washington Papers</td>\n",
       "      <td>[Washington, George]</td>\n",
       "      <td>[]</td>\n",
       "      <td>1795-07-05</td>\n",
       "      <td>1795-07-05</td>\n",
       "      <td>Could not find the main content</td>\n",
       "    </tr>\n",
       "    <tr>\n",
       "      <th>...</th>\n",
       "      <td>...</td>\n",
       "      <td>...</td>\n",
       "      <td>...</td>\n",
       "      <td>...</td>\n",
       "      <td>...</td>\n",
       "      <td>...</td>\n",
       "      <td>...</td>\n",
       "      <td>...</td>\n",
       "    </tr>\n",
       "    <tr>\n",
       "      <th>995</th>\n",
       "      <td>From John Adams to Boston Patriot, 4 November ...</td>\n",
       "      <td>https://founders.archives.gov/documents/Adams/...</td>\n",
       "      <td>Adams Papers</td>\n",
       "      <td>[Adams, John]</td>\n",
       "      <td>[Boston Patriot]</td>\n",
       "      <td>1809-11-04</td>\n",
       "      <td>1809-11-04</td>\n",
       "      <td>Quincy, November 4, 1809.\\nSirs,\\nIn my last l...</td>\n",
       "    </tr>\n",
       "    <tr>\n",
       "      <th>996</th>\n",
       "      <td>From John Adams to United States Senate, 14 Ma...</td>\n",
       "      <td>https://founders.archives.gov/documents/Adams/...</td>\n",
       "      <td>Adams Papers</td>\n",
       "      <td>[Adams, John]</td>\n",
       "      <td>[United States Senate]</td>\n",
       "      <td>1798-03-14</td>\n",
       "      <td>1798-03-14</td>\n",
       "      <td>United States March 14th 1798:\\nGentlemen of t...</td>\n",
       "    </tr>\n",
       "    <tr>\n",
       "      <th>997</th>\n",
       "      <td>To Benjamin Franklin from William Henly, [Apri...</td>\n",
       "      <td>https://founders.archives.gov/documents/Frankl...</td>\n",
       "      <td>Franklin Papers</td>\n",
       "      <td>[Henly, William]</td>\n",
       "      <td>[Franklin, Benjamin]</td>\n",
       "      <td>1772-04-01</td>\n",
       "      <td>1772-04-30</td>\n",
       "      <td>Sunday Eve. [April?, 1772]\\nDear Sir:\\nI have ...</td>\n",
       "    </tr>\n",
       "    <tr>\n",
       "      <th>998</th>\n",
       "      <td>From George Washington to Major General Alexan...</td>\n",
       "      <td>https://founders.archives.gov/documents/Washin...</td>\n",
       "      <td>Washington Papers</td>\n",
       "      <td>[Washington, George]</td>\n",
       "      <td>[McDougall, Alexander]</td>\n",
       "      <td>1779-05-20</td>\n",
       "      <td>1779-05-20</td>\n",
       "      <td>Head Quarters Middle Brook May 20th 1779\\nDr S...</td>\n",
       "    </tr>\n",
       "    <tr>\n",
       "      <th>999</th>\n",
       "      <td>From Thomas Jefferson to João, Prince Regent o...</td>\n",
       "      <td>https://founders.archives.gov/documents/Jeffer...</td>\n",
       "      <td>Jefferson Papers</td>\n",
       "      <td>[Jefferson, Thomas]</td>\n",
       "      <td>[João, Prince Regent of Portugal]</td>\n",
       "      <td>1801-10-12</td>\n",
       "      <td>1801-10-12</td>\n",
       "      <td>To our Great and Good Friend, His Royal Highne...</td>\n",
       "    </tr>\n",
       "  </tbody>\n",
       "</table>\n",
       "<p>1000 rows × 8 columns</p>\n",
       "</div>"
      ],
      "text/plain": [
       "                                                 title  \\\n",
       "0    Thomas Jefferson to Joseph Milligan, 22 Decemb...   \n",
       "1    To Alexander Hamilton from James McHenry, 3 Ma...   \n",
       "2    John Adams to John Quincy Adams and Thomas Boy...   \n",
       "3    From George Washington to Major General Horati...   \n",
       "4                           [Diary entry: 5 July 1795]   \n",
       "..                                                 ...   \n",
       "995  From John Adams to Boston Patriot, 4 November ...   \n",
       "996  From John Adams to United States Senate, 14 Ma...   \n",
       "997  To Benjamin Franklin from William Henly, [Apri...   \n",
       "998  From George Washington to Major General Alexan...   \n",
       "999  From Thomas Jefferson to João, Prince Regent o...   \n",
       "\n",
       "                                             permalink            project  \\\n",
       "0    https://founders.archives.gov/documents/Jeffer...   Jefferson Papers   \n",
       "1    https://founders.archives.gov/documents/Hamilt...    Hamilton Papers   \n",
       "2    https://founders.archives.gov/documents/Adams/...       Adams Papers   \n",
       "3    https://founders.archives.gov/documents/Washin...  Washington Papers   \n",
       "4    https://founders.archives.gov/documents/Washin...  Washington Papers   \n",
       "..                                                 ...                ...   \n",
       "995  https://founders.archives.gov/documents/Adams/...       Adams Papers   \n",
       "996  https://founders.archives.gov/documents/Adams/...       Adams Papers   \n",
       "997  https://founders.archives.gov/documents/Frankl...    Franklin Papers   \n",
       "998  https://founders.archives.gov/documents/Washin...  Washington Papers   \n",
       "999  https://founders.archives.gov/documents/Jeffer...   Jefferson Papers   \n",
       "\n",
       "                  authors                                    recipients  \\\n",
       "0     [Jefferson, Thomas]                            [Milligan, Joseph]   \n",
       "1        [McHenry, James]                         [Hamilton, Alexander]   \n",
       "2           [Adams, John]  [Adams, John Quincy, Adams, Thomas Boylston]   \n",
       "3    [Washington, George]                              [Gates, Horatio]   \n",
       "4    [Washington, George]                                            []   \n",
       "..                    ...                                           ...   \n",
       "995         [Adams, John]                              [Boston Patriot]   \n",
       "996         [Adams, John]                        [United States Senate]   \n",
       "997      [Henly, William]                          [Franklin, Benjamin]   \n",
       "998  [Washington, George]                        [McDougall, Alexander]   \n",
       "999   [Jefferson, Thomas]             [João, Prince Regent of Portugal]   \n",
       "\n",
       "      date-from     date-to                                            content  \n",
       "0    1815-12-22  1815-12-22  Monticello Dec. 22. 15.\\nDear Sir\\nOn my retur...  \n",
       "1    1791-05-03  1791-05-03  [Baltimore] 3 May 1791.\\nMy dear Sir.\\nI did n...  \n",
       "2    1794-09-14  1794-09-14  Quincy Septr.14. 1794\\nMy dear Sons\\nI once mo...  \n",
       "3    1776-12-23  1776-12-23  Head Quarters [Bucks County, Pa.] 23d Decr 177...  \n",
       "4    1795-07-05  1795-07-05                    Could not find the main content  \n",
       "..          ...         ...                                                ...  \n",
       "995  1809-11-04  1809-11-04  Quincy, November 4, 1809.\\nSirs,\\nIn my last l...  \n",
       "996  1798-03-14  1798-03-14  United States March 14th 1798:\\nGentlemen of t...  \n",
       "997  1772-04-01  1772-04-30  Sunday Eve. [April?, 1772]\\nDear Sir:\\nI have ...  \n",
       "998  1779-05-20  1779-05-20  Head Quarters Middle Brook May 20th 1779\\nDr S...  \n",
       "999  1801-10-12  1801-10-12  To our Great and Good Friend, His Royal Highne...  \n",
       "\n",
       "[1000 rows x 8 columns]"
      ]
     },
     "execution_count": 5,
     "metadata": {},
     "output_type": "execute_result"
    }
   ],
   "source": [
    "df"
   ]
  },
  {
   "cell_type": "markdown",
   "id": "b51200ae",
   "metadata": {},
   "source": [
    "Excellent! We have now loaded the data that we will use for the first half of this notebook. Before we can use it, though, we need to do one key step: chunking."
   ]
  },
  {
   "cell_type": "markdown",
   "id": "4e524938",
   "metadata": {},
   "source": [
    "# Chunking\n",
    "\n",
    "Just as we did in the previous notebook, we will chunk our data. Once again, we will chunk it into three sentences. We will do this by using a blank spaCy pipeline with just the `sentencizer` added."
   ]
  },
  {
   "cell_type": "code",
   "execution_count": 6,
   "id": "c28f9ef8",
   "metadata": {},
   "outputs": [
    {
     "data": {
      "text/plain": [
       "<spacy.pipeline.sentencizer.Sentencizer at 0x34d711700>"
      ]
     },
     "execution_count": 6,
     "metadata": {},
     "output_type": "execute_result"
    }
   ],
   "source": [
    "nlp = spacy.blank(\"en\")\n",
    "nlp.add_pipe(\"sentencizer\")"
   ]
  },
  {
   "cell_type": "markdown",
   "id": "3c968b9e",
   "metadata": {},
   "source": [
    "Now that we have our pipeline prepared, we can chunk our data. If you want to learn a bit about what's happening in the code snippet below, please see the final section of the previous notebook. Essentially, our code below will iterate over each row in our Pandas DataFrame and convert each `content` section into a list of sentences."
   ]
  },
  {
   "cell_type": "code",
   "execution_count": 22,
   "id": "4d008ec2",
   "metadata": {},
   "outputs": [
    {
     "name": "stderr",
     "output_type": "stream",
     "text": [
      "Chunking texts: 100%|██████████| 1000/1000 [00:01<00:00, 871.52it/s]\n"
     ]
    }
   ],
   "source": [
    "# Function to chunk text into groups of 3 sentences\n",
    "def chunk_text(text, chunk_size=3):\n",
    "    doc = nlp(text)\n",
    "    sentences = list(doc.sents)\n",
    "    chunks = []\n",
    "    for i in range(0, len(sentences), chunk_size):\n",
    "        chunk = sentences[i:i+chunk_size]\n",
    "        chunks.append(\" \".join([sent.text for sent in chunk]))\n",
    "    return chunks\n",
    "\n",
    "# Create chunks\n",
    "chunked_data = []\n",
    "for idx, row in tqdm(df.iterrows(), total=len(df), desc=\"Chunking texts\"):\n",
    "    chunks = chunk_text(row['content'])\n",
    "    for chunk_idx, chunk in enumerate(chunks):\n",
    "        chunk_data = row.to_dict()\n",
    "        chunk_data['content'] = chunk\n",
    "        chunk_data['document_index'] = idx\n",
    "        chunk_data['chunk_index'] = chunk_idx\n",
    "        chunked_data.append(chunk_data)"
   ]
  },
  {
   "cell_type": "markdown",
   "id": "d574b7e5",
   "metadata": {},
   "source": [
    "Now that our data is chunked, let's recreate our new chunked DataFrame."
   ]
  },
  {
   "cell_type": "code",
   "execution_count": 23,
   "id": "3c760efe",
   "metadata": {},
   "outputs": [
    {
     "data": {
      "text/html": [
       "<div>\n",
       "<style scoped>\n",
       "    .dataframe tbody tr th:only-of-type {\n",
       "        vertical-align: middle;\n",
       "    }\n",
       "\n",
       "    .dataframe tbody tr th {\n",
       "        vertical-align: top;\n",
       "    }\n",
       "\n",
       "    .dataframe thead th {\n",
       "        text-align: right;\n",
       "    }\n",
       "</style>\n",
       "<table border=\"1\" class=\"dataframe\">\n",
       "  <thead>\n",
       "    <tr style=\"text-align: right;\">\n",
       "      <th></th>\n",
       "      <th>title</th>\n",
       "      <th>permalink</th>\n",
       "      <th>project</th>\n",
       "      <th>authors</th>\n",
       "      <th>recipients</th>\n",
       "      <th>date-from</th>\n",
       "      <th>date-to</th>\n",
       "      <th>content</th>\n",
       "      <th>document_index</th>\n",
       "      <th>chunk_index</th>\n",
       "    </tr>\n",
       "  </thead>\n",
       "  <tbody>\n",
       "    <tr>\n",
       "      <th>0</th>\n",
       "      <td>Thomas Jefferson to Joseph Milligan, 22 Decemb...</td>\n",
       "      <td>https://founders.archives.gov/documents/Jeffer...</td>\n",
       "      <td>Jefferson Papers</td>\n",
       "      <td>[Jefferson, Thomas]</td>\n",
       "      <td>[Milligan, Joseph]</td>\n",
       "      <td>1815-12-22</td>\n",
       "      <td>1815-12-22</td>\n",
       "      <td>Monticello Dec. 22. 15. \\nDear Sir\\nOn my retu...</td>\n",
       "      <td>0</td>\n",
       "      <td>0</td>\n",
       "    </tr>\n",
       "    <tr>\n",
       "      <th>1</th>\n",
       "      <td>Thomas Jefferson to Joseph Milligan, 22 Decemb...</td>\n",
       "      <td>https://founders.archives.gov/documents/Jeffer...</td>\n",
       "      <td>Jefferson Papers</td>\n",
       "      <td>[Jefferson, Thomas]</td>\n",
       "      <td>[Milligan, Joseph]</td>\n",
       "      <td>1815-12-22</td>\n",
       "      <td>1815-12-22</td>\n",
       "      <td>by this mail I send you an Ovid’s metamorphose...</td>\n",
       "      <td>0</td>\n",
       "      <td>1</td>\n",
       "    </tr>\n",
       "    <tr>\n",
       "      <th>2</th>\n",
       "      <td>Thomas Jefferson to Joseph Milligan, 22 Decemb...</td>\n",
       "      <td>https://founders.archives.gov/documents/Jeffer...</td>\n",
       "      <td>Jefferson Papers</td>\n",
       "      <td>[Jefferson, Thomas]</td>\n",
       "      <td>[Milligan, Joseph]</td>\n",
       "      <td>1815-12-22</td>\n",
       "      <td>1815-12-22</td>\n",
       "      <td>I salute you with friendship &amp; esteem\\nTh: Jef...</td>\n",
       "      <td>0</td>\n",
       "      <td>2</td>\n",
       "    </tr>\n",
       "    <tr>\n",
       "      <th>3</th>\n",
       "      <td>Thomas Jefferson to Joseph Milligan, 22 Decemb...</td>\n",
       "      <td>https://founders.archives.gov/documents/Jeffer...</td>\n",
       "      <td>Jefferson Papers</td>\n",
       "      <td>[Jefferson, Thomas]</td>\n",
       "      <td>[Milligan, Joseph]</td>\n",
       "      <td>1815-12-22</td>\n",
       "      <td>1815-12-22</td>\n",
       "      <td>abridged. to be bound[. . .] \\nthe Lat. &amp;</td>\n",
       "      <td>0</td>\n",
       "      <td>3</td>\n",
       "    </tr>\n",
       "    <tr>\n",
       "      <th>4</th>\n",
       "      <td>Thomas Jefferson to Joseph Milligan, 22 Decemb...</td>\n",
       "      <td>https://founders.archives.gov/documents/Jeffer...</td>\n",
       "      <td>Jefferson Papers</td>\n",
       "      <td>[Jefferson, Thomas]</td>\n",
       "      <td>[Milligan, Joseph]</td>\n",
       "      <td>1815-12-22</td>\n",
       "      <td>1815-12-22</td>\n",
       "      <td>Eng in one, &amp; the Eng. &amp; Lat.[. . .] \\nOvid’s ...</td>\n",
       "      <td>0</td>\n",
       "      <td>4</td>\n",
       "    </tr>\n",
       "    <tr>\n",
       "      <th>...</th>\n",
       "      <td>...</td>\n",
       "      <td>...</td>\n",
       "      <td>...</td>\n",
       "      <td>...</td>\n",
       "      <td>...</td>\n",
       "      <td>...</td>\n",
       "      <td>...</td>\n",
       "      <td>...</td>\n",
       "      <td>...</td>\n",
       "      <td>...</td>\n",
       "    </tr>\n",
       "    <tr>\n",
       "      <th>4562</th>\n",
       "      <td>To Benjamin Franklin from William Henly, [Apri...</td>\n",
       "      <td>https://founders.archives.gov/documents/Frankl...</td>\n",
       "      <td>Franklin Papers</td>\n",
       "      <td>[Henly, William]</td>\n",
       "      <td>[Franklin, Benjamin]</td>\n",
       "      <td>1772-04-01</td>\n",
       "      <td>1772-04-30</td>\n",
       "      <td>Believe me Dear Sir to be with real regard you...</td>\n",
       "      <td>997</td>\n",
       "      <td>6</td>\n",
       "    </tr>\n",
       "    <tr>\n",
       "      <th>4563</th>\n",
       "      <td>From George Washington to Major General Alexan...</td>\n",
       "      <td>https://founders.archives.gov/documents/Washin...</td>\n",
       "      <td>Washington Papers</td>\n",
       "      <td>[Washington, George]</td>\n",
       "      <td>[McDougall, Alexander]</td>\n",
       "      <td>1779-05-20</td>\n",
       "      <td>1779-05-20</td>\n",
       "      <td>Head Quarters Middle Brook May 20th 1779\\nDr S...</td>\n",
       "      <td>998</td>\n",
       "      <td>0</td>\n",
       "    </tr>\n",
       "    <tr>\n",
       "      <th>4564</th>\n",
       "      <td>From Thomas Jefferson to João, Prince Regent o...</td>\n",
       "      <td>https://founders.archives.gov/documents/Jeffer...</td>\n",
       "      <td>Jefferson Papers</td>\n",
       "      <td>[Jefferson, Thomas]</td>\n",
       "      <td>[João, Prince Regent of Portugal]</td>\n",
       "      <td>1801-10-12</td>\n",
       "      <td>1801-10-12</td>\n",
       "      <td>To our Great and Good Friend, His Royal Highne...</td>\n",
       "      <td>999</td>\n",
       "      <td>0</td>\n",
       "    </tr>\n",
       "    <tr>\n",
       "      <th>4565</th>\n",
       "      <td>From Thomas Jefferson to João, Prince Regent o...</td>\n",
       "      <td>https://founders.archives.gov/documents/Jeffer...</td>\n",
       "      <td>Jefferson Papers</td>\n",
       "      <td>[Jefferson, Thomas]</td>\n",
       "      <td>[João, Prince Regent of Portugal]</td>\n",
       "      <td>1801-10-12</td>\n",
       "      <td>1801-10-12</td>\n",
       "      <td>Whilst under this mournful visitation we mingl...</td>\n",
       "      <td>999</td>\n",
       "      <td>1</td>\n",
       "    </tr>\n",
       "    <tr>\n",
       "      <th>4566</th>\n",
       "      <td>From Thomas Jefferson to João, Prince Regent o...</td>\n",
       "      <td>https://founders.archives.gov/documents/Jeffer...</td>\n",
       "      <td>Jefferson Papers</td>\n",
       "      <td>[Jefferson, Thomas]</td>\n",
       "      <td>[João, Prince Regent of Portugal]</td>\n",
       "      <td>1801-10-12</td>\n",
       "      <td>1801-10-12</td>\n",
       "      <td>day of October in the Year of Our Lord One tho...</td>\n",
       "      <td>999</td>\n",
       "      <td>2</td>\n",
       "    </tr>\n",
       "  </tbody>\n",
       "</table>\n",
       "<p>4567 rows × 10 columns</p>\n",
       "</div>"
      ],
      "text/plain": [
       "                                                  title  \\\n",
       "0     Thomas Jefferson to Joseph Milligan, 22 Decemb...   \n",
       "1     Thomas Jefferson to Joseph Milligan, 22 Decemb...   \n",
       "2     Thomas Jefferson to Joseph Milligan, 22 Decemb...   \n",
       "3     Thomas Jefferson to Joseph Milligan, 22 Decemb...   \n",
       "4     Thomas Jefferson to Joseph Milligan, 22 Decemb...   \n",
       "...                                                 ...   \n",
       "4562  To Benjamin Franklin from William Henly, [Apri...   \n",
       "4563  From George Washington to Major General Alexan...   \n",
       "4564  From Thomas Jefferson to João, Prince Regent o...   \n",
       "4565  From Thomas Jefferson to João, Prince Regent o...   \n",
       "4566  From Thomas Jefferson to João, Prince Regent o...   \n",
       "\n",
       "                                              permalink            project  \\\n",
       "0     https://founders.archives.gov/documents/Jeffer...   Jefferson Papers   \n",
       "1     https://founders.archives.gov/documents/Jeffer...   Jefferson Papers   \n",
       "2     https://founders.archives.gov/documents/Jeffer...   Jefferson Papers   \n",
       "3     https://founders.archives.gov/documents/Jeffer...   Jefferson Papers   \n",
       "4     https://founders.archives.gov/documents/Jeffer...   Jefferson Papers   \n",
       "...                                                 ...                ...   \n",
       "4562  https://founders.archives.gov/documents/Frankl...    Franklin Papers   \n",
       "4563  https://founders.archives.gov/documents/Washin...  Washington Papers   \n",
       "4564  https://founders.archives.gov/documents/Jeffer...   Jefferson Papers   \n",
       "4565  https://founders.archives.gov/documents/Jeffer...   Jefferson Papers   \n",
       "4566  https://founders.archives.gov/documents/Jeffer...   Jefferson Papers   \n",
       "\n",
       "                   authors                         recipients   date-from  \\\n",
       "0      [Jefferson, Thomas]                 [Milligan, Joseph]  1815-12-22   \n",
       "1      [Jefferson, Thomas]                 [Milligan, Joseph]  1815-12-22   \n",
       "2      [Jefferson, Thomas]                 [Milligan, Joseph]  1815-12-22   \n",
       "3      [Jefferson, Thomas]                 [Milligan, Joseph]  1815-12-22   \n",
       "4      [Jefferson, Thomas]                 [Milligan, Joseph]  1815-12-22   \n",
       "...                    ...                                ...         ...   \n",
       "4562      [Henly, William]               [Franklin, Benjamin]  1772-04-01   \n",
       "4563  [Washington, George]             [McDougall, Alexander]  1779-05-20   \n",
       "4564   [Jefferson, Thomas]  [João, Prince Regent of Portugal]  1801-10-12   \n",
       "4565   [Jefferson, Thomas]  [João, Prince Regent of Portugal]  1801-10-12   \n",
       "4566   [Jefferson, Thomas]  [João, Prince Regent of Portugal]  1801-10-12   \n",
       "\n",
       "         date-to                                            content  \\\n",
       "0     1815-12-22  Monticello Dec. 22. 15. \\nDear Sir\\nOn my retu...   \n",
       "1     1815-12-22  by this mail I send you an Ovid’s metamorphose...   \n",
       "2     1815-12-22  I salute you with friendship & esteem\\nTh: Jef...   \n",
       "3     1815-12-22          abridged. to be bound[. . .] \\nthe Lat. &   \n",
       "4     1815-12-22  Eng in one, & the Eng. & Lat.[. . .] \\nOvid’s ...   \n",
       "...          ...                                                ...   \n",
       "4562  1772-04-30  Believe me Dear Sir to be with real regard you...   \n",
       "4563  1779-05-20  Head Quarters Middle Brook May 20th 1779\\nDr S...   \n",
       "4564  1801-10-12  To our Great and Good Friend, His Royal Highne...   \n",
       "4565  1801-10-12  Whilst under this mournful visitation we mingl...   \n",
       "4566  1801-10-12  day of October in the Year of Our Lord One tho...   \n",
       "\n",
       "      document_index  chunk_index  \n",
       "0                  0            0  \n",
       "1                  0            1  \n",
       "2                  0            2  \n",
       "3                  0            3  \n",
       "4                  0            4  \n",
       "...              ...          ...  \n",
       "4562             997            6  \n",
       "4563             998            0  \n",
       "4564             999            0  \n",
       "4565             999            1  \n",
       "4566             999            2  \n",
       "\n",
       "[4567 rows x 10 columns]"
      ]
     },
     "execution_count": 23,
     "metadata": {},
     "output_type": "execute_result"
    }
   ],
   "source": [
    "# Create new DataFrame with chunks\n",
    "chunked_df = pd.DataFrame(chunked_data)\n",
    "chunked_df"
   ]
  },
  {
   "cell_type": "markdown",
   "id": "3a26dffe",
   "metadata": {},
   "source": [
    "As we can see, our number of rows has significantly increased, from 1,000 to over 4,000. This is because we have over 4,000 chunks. It's always important to keep two key pieces of data about a chunk: it's original document id and it's sequence in the chunking process. To preserve this data, we have added two new features to the `chunked_df`, `document_index` and `chunk_index`. These two features of our data allow us to not only map our chunks to the original document, but also know its precise position within the original document. This is very important for understanding the results from any vector-based query.\n",
    "\n",
    "Once our data is prepared, now comes time to begin working with `txtai`. We are going to use the `Embeddings` class and we will pass a single argument: a dictionary that has a key of `path` and a value of the model on HuggingFace that you want to use. Note that since we are not using the SentenceTransformers library directly here, we must specify the entire HuggingFace path."
   ]
  },
  {
   "cell_type": "code",
   "execution_count": 9,
   "id": "bcffa8d9",
   "metadata": {},
   "outputs": [],
   "source": [
    "embeddings = Embeddings({\"path\": \"sentence-transformers/all-MiniLM-L6-v2\"})"
   ]
  },
  {
   "cell_type": "code",
   "execution_count": 24,
   "id": "9708f010",
   "metadata": {},
   "outputs": [
    {
     "data": {
      "text/plain": [
       "<txtai.embeddings.base.Embeddings at 0x34d973df0>"
      ]
     },
     "execution_count": 24,
     "metadata": {},
     "output_type": "execute_result"
    }
   ],
   "source": [
    "embeddings"
   ]
  },
  {
   "cell_type": "markdown",
   "id": "c76e474c",
   "metadata": {},
   "source": [
    "This has now created our Embeddings class with that particular model loaded. This will be the model that we use for vectorization. This is one of the key advantages of `txtai`, it means you don't have to remember which model you used for a particular vector databases because it retains that information for you.\n",
    "\n",
    "Once we have our Embeddings class loaded, it comes time to populate it with data. Just like we did before, we want to populate it with a list of texts. To do that, we will grab the `content` field in the DataFrame and convert it to a list. We will do this with the `index()` method which loads our data into our Embeddings class. This does the same thing that we saw in the previous notebook with Annoy, where we added items, except this does this all at once."
   ]
  },
  {
   "cell_type": "code",
   "execution_count": 25,
   "id": "26e3d880",
   "metadata": {},
   "outputs": [],
   "source": [
    "embeddings.index(chunked_df[\"content\"].tolist())"
   ]
  },
  {
   "cell_type": "markdown",
   "id": "2051059e",
   "metadata": {},
   "source": [
    "Once complete, we have our entire index built. This means we have everything in place to query it. To query an index, we can use the `search()` method. Here, we will pass two arguments, the text that we want to query and `limit` which controls the amount of results to return. Notice that unlike Annoy, we don't have to manually vectorize our data. Instead, the Embeddings() class handles all this for you!"
   ]
  },
  {
   "cell_type": "code",
   "execution_count": 11,
   "id": "399b556e",
   "metadata": {},
   "outputs": [
    {
     "data": {
      "text/plain": [
       "[(3612, 0.4755183458328247)]"
      ]
     },
     "execution_count": 11,
     "metadata": {},
     "output_type": "execute_result"
    }
   ],
   "source": [
    "embeddings.search(\"warfare\", limit=1)"
   ]
  },
  {
   "cell_type": "markdown",
   "id": "8069e43c",
   "metadata": {},
   "source": [
    "Just let the previous notebook, we searched for `warfare`. The results may not look precisely like what you'd expect. Let's break them down to understand them. `search()` will return a list of results. Even if you set your limit to 1, you will still get a list.\n",
    "\n",
    "Each item in this list has two indices, the document id and the score, or the degree to which this document is similar to your query. Note here that you don't need to sort the results. They are already sorted for you.\n",
    "\n",
    "How can we the original document? We can create a variable called result and use `iloc` to find the specific place in our DataFrame where that result appears:"
   ]
  },
  {
   "cell_type": "code",
   "execution_count": 28,
   "id": "b44def4f",
   "metadata": {},
   "outputs": [
    {
     "name": "stdout",
     "output_type": "stream",
     "text": [
      "an alliance offensive & defensive is concluded, & wh. embarks her in the war of course agnst. Engld.; &\n"
     ]
    }
   ],
   "source": [
    "result = embeddings.search(\"warfare\", limit=1)\n",
    "print(chunked_df.iloc[result[0][0]].content)"
   ]
  },
  {
   "cell_type": "markdown",
   "id": "a820dba4",
   "metadata": {},
   "source": [
    "Let's experiment a bit. Have some fun with the below example and try out a few results. The below code will only print the top result, regardless of the limit."
   ]
  },
  {
   "cell_type": "code",
   "execution_count": 30,
   "id": "cfdffda0",
   "metadata": {},
   "outputs": [
    {
     "name": "stdout",
     "output_type": "stream",
     "text": [
      "There is a humorous story told about town of one of the deserters, though I cannot say it is absolutely to be depended upon as a fact: a soldier, whose name is Patrick, deserted sometime ago and settled in a country town at some distance, and there undertook to instruct a company of about fifty men in military exercises. A sergeant and eight men were sent to apprehend deserters, got intelligence of him, and agreed with a countryman, for a couple of guineas, to conductthem to him. Patrick, it seems, was at that time exercising his company; however, being called by the sergeant and his men, he immediately came up to them.\n"
     ]
    }
   ],
   "source": [
    "query = \"desertion\"\n",
    "\n",
    "result = embeddings.search(query, limit=2)\n",
    "print(chunked_df.iloc[result[0][0]].content)"
   ]
  },
  {
   "cell_type": "markdown",
   "id": "c2d96290",
   "metadata": {},
   "source": [
    "One of the things that can be challenging, however, is understanding `why` the result returned was a match.  Fortunately, `txtai` has a built-in solution."
   ]
  },
  {
   "cell_type": "markdown",
   "id": "361c3164",
   "metadata": {},
   "source": [
    "# Understanding Outputs\n",
    "\n",
    "Understanding the outputs from a vector database is essential so that you can manually validate the responses or automate other downstream tasks. We can obtain an understanding at the token level for why certain matches returned as they did by recreating our index. This time, though, we will pass in another argument in our dictionary: `content` and set it to True.\n",
    "\n",
    "By doing this, we will allow txtai to keep the original text. This is important for this step, but takes more memory, so be aware of this small limitation. Notice here, that our name for the Embeddings class is different. This is so that we can distinguish it from our previous example."
   ]
  },
  {
   "cell_type": "code",
   "execution_count": 33,
   "id": "d7c5821c",
   "metadata": {},
   "outputs": [],
   "source": [
    "embeddings_explain = Embeddings({\"path\": \"sentence-transformers/all-MiniLM-L6-v2\", \"content\": True})"
   ]
  },
  {
   "cell_type": "markdown",
   "id": "50fdfcbc",
   "metadata": {},
   "source": [
    "Now that we have our new Embeddings class created, we can go ahead and load it up with the exact same data."
   ]
  },
  {
   "cell_type": "code",
   "execution_count": 34,
   "id": "ddb43214",
   "metadata": {},
   "outputs": [],
   "source": [
    "embeddings_explain.index(chunked_df[\"content\"].tolist())"
   ]
  },
  {
   "cell_type": "markdown",
   "id": "bd5f156f",
   "metadata": {},
   "source": [
    "And again, we can query that data. Let's use a different search term: `desertion`."
   ]
  },
  {
   "cell_type": "code",
   "execution_count": 35,
   "id": "cc8a16a8",
   "metadata": {},
   "outputs": [
    {
     "data": {
      "text/plain": [
       "[{'id': '4460',\n",
       "  'text': 'There is a humorous story told about town of one of the deserters, though I cannot say it is absolutely to be depended upon as a fact: a soldier, whose name is Patrick, deserted sometime ago and settled in a country town at some distance, and there undertook to instruct a company of about fifty men in military exercises. A sergeant and eight men were sent to apprehend deserters, got intelligence of him, and agreed with a countryman, for a couple of guineas, to conductthem to him. Patrick, it seems, was at that time exercising his company; however, being called by the sergeant and his men, he immediately came up to them.',\n",
       "  'score': 0.39712488651275635,\n",
       "  'tokens': [('There', 0.015810847282409668),\n",
       "   ('is', 0.000994563102722168),\n",
       "   ('a', 0.0022989511489868164),\n",
       "   ('humorous', 0.0004960298538208008),\n",
       "   ('story', -0.017353415489196777),\n",
       "   ('told', 0.006220757961273193),\n",
       "   ('about', -0.0015992522239685059),\n",
       "   ('town', -0.03239351511001587),\n",
       "   ('of', -0.0015635490417480469),\n",
       "   ('one', -0.01102784276008606),\n",
       "   ('of', -0.0024225711822509766),\n",
       "   ('the', -0.009594500064849854),\n",
       "   ('deserters,', 0.20154988765716553),\n",
       "   ('though', 0.0005834102630615234),\n",
       "   ('I', -0.004481673240661621),\n",
       "   ('cannot', 0.0027624964714050293),\n",
       "   ('say', 0.005897730588912964),\n",
       "   ('it', 0.0029219388961791992),\n",
       "   ('is', 0.005859792232513428),\n",
       "   ('absolutely', 0.004869699478149414),\n",
       "   ('to', 0.0016422271728515625),\n",
       "   ('be', 0.005293548107147217),\n",
       "   ('depended', 0.008509516716003418),\n",
       "   ('upon', 0.0013488829135894775),\n",
       "   ('as', 0.0033127665519714355),\n",
       "   ('a', 0.0046689510345458984),\n",
       "   ('fact:', 0.01650393009185791),\n",
       "   ('a', 0.003343045711517334),\n",
       "   ('soldier,', -0.010589033365249634),\n",
       "   ('whose', -0.0009690821170806885),\n",
       "   ('name', 0.0006529092788696289),\n",
       "   ('is', -0.0019375979900360107),\n",
       "   ('Patrick,', -0.0014421939849853516),\n",
       "   ('deserted', 0.009451091289520264),\n",
       "   ('sometime', -9.47713851928711e-05),\n",
       "   ('ago', -0.0017291903495788574),\n",
       "   ('and', -0.0007936358451843262),\n",
       "   ('settled', -0.0029387474060058594),\n",
       "   ('in', 0.0014113783836364746),\n",
       "   ('a', 0.001019895076751709),\n",
       "   ('country', -0.004961609840393066),\n",
       "   ('town', -0.004654347896575928),\n",
       "   ('at', 0.001273036003112793),\n",
       "   ('some', -0.0014493167400360107),\n",
       "   ('distance,', 0.006471902132034302),\n",
       "   ('and', 0.000861823558807373),\n",
       "   ('there', 0.0014401078224182129),\n",
       "   ('undertook', 0.0007100105285644531),\n",
       "   ('to', 0.002347975969314575),\n",
       "   ('instruct', 0.004217982292175293),\n",
       "   ('a', 0.002749621868133545),\n",
       "   ('company', -0.002718210220336914),\n",
       "   ('of', 0.0016418397426605225),\n",
       "   ('about', 0.002119302749633789),\n",
       "   ('fifty', 0.001072704792022705),\n",
       "   ('men', 0.0015122294425964355),\n",
       "   ('in', -0.0010068118572235107),\n",
       "   ('military', 0.004503130912780762),\n",
       "   ('exercises.', 0.018111854791641235),\n",
       "   ('A', 0.002498030662536621),\n",
       "   ('sergeant', -0.001981377601623535),\n",
       "   ('and', 0.004993349313735962),\n",
       "   ('eight', 0.0015107393264770508),\n",
       "   ('men', 0.0014230012893676758),\n",
       "   ('were', 0.00011712312698364258),\n",
       "   ('sent', -0.0032548904418945312),\n",
       "   ('to', -0.0025720596313476562),\n",
       "   ('apprehend', 0.012144505977630615),\n",
       "   ('deserters,', 0.02370324730873108),\n",
       "   ('got', -0.0016533732414245605),\n",
       "   ('intelligence', 0.003176659345626831),\n",
       "   ('of', 0.0012298226356506348),\n",
       "   ('him,', 0.0020336806774139404),\n",
       "   ('and', -0.0003286302089691162),\n",
       "   ('agreed', 0.0011264681816101074),\n",
       "   ('with', -0.0011046528816223145),\n",
       "   ('a', -0.002391517162322998),\n",
       "   ('countryman,', -0.003822505474090576),\n",
       "   ('for', -0.0005496740341186523),\n",
       "   ('a', -0.0003857612609863281),\n",
       "   ('couple', -0.0016636252403259277),\n",
       "   ('of', 0.00017634034156799316),\n",
       "   ('guineas,', 0.003943800926208496),\n",
       "   ('to', -0.00014922022819519043),\n",
       "   ('conductthem', 2.7060508728027344e-05),\n",
       "   ('to', 0.0008459687232971191),\n",
       "   ('him.', 0.003221839666366577),\n",
       "   ('Patrick,', 0.009410291910171509),\n",
       "   ('it', -0.004830539226531982),\n",
       "   ('seems,', -0.011929154396057129),\n",
       "   ('was', 0.0003591775894165039),\n",
       "   ('at', 0.0009784400463104248),\n",
       "   ('that', -0.001560598611831665),\n",
       "   ('time', -0.001036524772644043),\n",
       "   ('exercising', 0.003795146942138672),\n",
       "   ('his', -0.0005220770835876465),\n",
       "   ('company;', 0.0014581084251403809),\n",
       "   ('however,', -0.0005421638488769531),\n",
       "   ('being', -0.0023848414421081543),\n",
       "   ('called', -0.0013994872570037842),\n",
       "   ('by', 0.006730139255523682),\n",
       "   ('the', 0.0016388297080993652),\n",
       "   ('sergeant', -0.008335351943969727),\n",
       "   ('and', 0.0014017820358276367),\n",
       "   ('his', 1.7762184143066406e-05),\n",
       "   ('men,', -0.003093332052230835),\n",
       "   ('he', -1.7255544662475586e-05),\n",
       "   ('immediately', 4.76837158203125e-07),\n",
       "   ('came', -0.0037131905555725098),\n",
       "   ('up', -0.0027903616428375244),\n",
       "   ('to', 0.0022984743118286133),\n",
       "   ('them.', 0.00243416428565979)]}]"
      ]
     },
     "execution_count": 35,
     "metadata": {},
     "output_type": "execute_result"
    }
   ],
   "source": [
    "query = \"desertion\"\n",
    "\n",
    "result = embeddings_explain.explain(query, limit=1)\n",
    "result"
   ]
  },
  {
   "cell_type": "markdown",
   "id": "c5d5e81f",
   "metadata": {},
   "source": [
    "Our result now looks a little different. First, our output is a dictionary. Second, we have a lot of other features in our output. We have `text` which corresponds to the original document. We also have tokens. These tokens have two components: the word and the score. Again, the word corresponds to the raw text inside the original document, while the score relates to it's similarity to the initial query. This means, we have a granular understanding of why our result was returned. Words with a higher score indicate a higher degree of similarity to the original query.\n",
    "\n",
    "The code below comes from the txtai documentation. It takes this output and provides a highlighting effect on the original data so that we can better see the results."
   ]
  },
  {
   "cell_type": "code",
   "execution_count": 18,
   "id": "88816f23",
   "metadata": {},
   "outputs": [
    {
     "data": {
      "text/html": [
       "<b>desertion</b><br/>There is a humorous story told about town of one of the <span style='background-color: #fdd835'>deserters,</span> though I cannot say it is absolutely to be depended upon as a fact: a soldier, whose name is Patrick, deserted sometime ago and settled in a country town at some distance, and there undertook to instruct a company of about fifty men in military exercises. A sergeant and eight men were sent to apprehend <span style='background-color: #fff59d'>deserters,</span> got intelligence of him, and agreed with a countryman, for a couple of guineas, to conductthem to him. Patrick, it seems, was at that time exercising his company; however, being called by the sergeant and his men, he immediately came up to them. "
      ],
      "text/plain": [
       "<IPython.core.display.HTML object>"
      ]
     },
     "execution_count": 18,
     "metadata": {},
     "output_type": "execute_result"
    }
   ],
   "source": [
    "from IPython.display import HTML\n",
    "\n",
    "def plot(query):\n",
    "  result = embeddings_explain.explain(query, limit=1)[0]\n",
    "\n",
    "  output = f\"<b>{query}</b><br/>\"\n",
    "  spans = []\n",
    "  for token, score in result[\"tokens\"]:\n",
    "    color = None\n",
    "    if score >= 0.1:\n",
    "      color = \"#fdd835\"\n",
    "    elif score >= 0.075:\n",
    "      color = \"#ffeb3b\"\n",
    "    elif score >= 0.05:\n",
    "      color = \"#ffee58\"\n",
    "    elif score >= 0.02:\n",
    "      color = \"#fff59d\"\n",
    "\n",
    "    spans.append((token, score, color))\n",
    "\n",
    "  if result[\"score\"] >= 0.05 and not [color for _, _, color in spans if color]:\n",
    "    mscore = max([score for _, score, _ in spans])\n",
    "    spans = [(token, score, \"#fff59d\" if score == mscore else color) for token, score, color in spans]\n",
    "\n",
    "  for token, _, color in spans:\n",
    "    if color:\n",
    "      output += f\"<span style='background-color: {color}'>{token}</span> \"\n",
    "    else:\n",
    "      output += f\"{token} \"\n",
    "\n",
    "  return output\n",
    "\n",
    "HTML(plot(query))"
   ]
  },
  {
   "cell_type": "markdown",
   "id": "3e1d1477",
   "metadata": {},
   "source": [
    "# Multimodal Vector Databases\n",
    "\n",
    "One of the great things about vectors is that all data functions the same. In other words, the vector for an image can be in the same format as a vector for text or audio. This means that if we have a model that can handle two types of data, we can create vector databases that work with two types of data. This is known as multimodality. It is the process by which we train models to recognize multiple types of data and place things that are similar, regardless of data type, in close proximity. This means that pictures of a dog would be placed near the words \"dog\", \"canine\" or \"hound\".\n",
    "\n",
    "In this example, though, we are going to work with something that you are more likely to encounter in an archive and a far more practical example: medieval manuscripts. Let's load up our files."
   ]
  },
  {
   "cell_type": "code",
   "execution_count": 37,
   "id": "ad885285",
   "metadata": {},
   "outputs": [
    {
     "data": {
      "text/plain": [
       "629"
      ]
     },
     "execution_count": 37,
     "metadata": {},
     "output_type": "execute_result"
    }
   ],
   "source": [
    "files = glob.glob(\"../data/raw/images/*/*.jpg\")\n",
    "len(files)"
   ]
  },
  {
   "cell_type": "markdown",
   "id": "b3e02701",
   "metadata": {},
   "source": [
    "Here, we can see that we have 629 images. These come from e-codices. For a full list of the manuscripts, check out this [link](https://github.com/wjbmattingly/youtube-clip-demo/blob/main/data/citation.md). Now that we have our files, let's go ahead and load up the data as Pillow images."
   ]
  },
  {
   "cell_type": "code",
   "execution_count": 38,
   "id": "604f42f5",
   "metadata": {},
   "outputs": [],
   "source": [
    "# images = [Image.open(filepath).convert('RGB') for filepath in files]\n",
    "\n",
    "images = []\n",
    "for filepath in files:\n",
    "    temp_image = Image.open(filepath).convert('RGB')\n",
    "    images.append(temp_image)"
   ]
  },
  {
   "cell_type": "markdown",
   "id": "c9075fb7",
   "metadata": {},
   "source": [
    "Now, let's take a look at one of these images."
   ]
  },
  {
   "cell_type": "code",
   "execution_count": 39,
   "id": "f924c5ae",
   "metadata": {},
   "outputs": [
    {
     "data": {
      "image/jpeg": "[encoded data removed]",
      "image/png": "[encoded data removed]",
      "text/plain": [
       "<PIL.Image.Image image mode=RGB size=112x150>"
      ]
     },
     "execution_count": 39,
     "metadata": {},
     "output_type": "execute_result"
    }
   ],
   "source": [
    "images[0]"
   ]
  },
  {
   "cell_type": "markdown",
   "id": "91c4319c",
   "metadata": {},
   "source": [
    "As you can see, this is a small thumbnail of a manuscript image page that has four coats-of-arms. Don't worry about these thumbnails, the model can make sense of the data because most models condense large images down to a smaller space. We will lose some of the features of the data, though, since we don't have has a large of an image. I kept the files small for this notebook because it makes the process faster for in-class exercises.\n",
    "\n",
    "Now that we have our data, now comes the fun part, vectorizing it with a multimodal model. We will use `clip` which can handle both text and images."
   ]
  },
  {
   "cell_type": "code",
   "execution_count": 4,
   "id": "8dd894c3",
   "metadata": {},
   "outputs": [],
   "source": [
    "multimodal_model = SentenceTransformer('clip-ViT-B-32')"
   ]
  },
  {
   "cell_type": "markdown",
   "id": "96379b3e",
   "metadata": {},
   "source": [
    "With our model loaded, we can pass our images to it, just as we would text."
   ]
  },
  {
   "cell_type": "code",
   "execution_count": 5,
   "id": "beddf9e6",
   "metadata": {},
   "outputs": [
    {
     "ename": "",
     "evalue": "",
     "output_type": "error",
     "traceback": [
      "\u001b[1;31mThe Kernel crashed while executing code in the the current cell or a previous cell. Please review the code in the cell(s) to identify a possible cause of the failure. Click <a href='https://aka.ms/vscodeJupyterKernelCrash'>here</a> for more info. View Jupyter <a href='command:jupyter.viewOutput'>log</a> for further details."
     ]
    }
   ],
   "source": [
    "embeddings = multimodal_model.encode(images,\n",
    "                              show_progress_bar=False)"
   ]
  },
  {
   "cell_type": "markdown",
   "id": "2be38e8d",
   "metadata": {},
   "source": [
    "For this example, we will be using Annoy again. If you remember from the last notebook, we need to know the shape of our data. Let's go ahead and print that off now."
   ]
  },
  {
   "cell_type": "code",
   "execution_count": 19,
   "id": "954c67f3",
   "metadata": {},
   "outputs": [
    {
     "ename": "AttributeError",
     "evalue": "'Embeddings' object has no attribute 'shape'",
     "output_type": "error",
     "traceback": [
      "\u001b[0;31m---------------------------------------------------------------------------\u001b[0m",
      "\u001b[0;31mAttributeError\u001b[0m                            Traceback (most recent call last)",
      "\u001b[1;32m/Users/wjbmattingly/projects/tap-2024-vector-databases/notebooks/03-refining-vector-databases.ipynb Cell 34\u001b[0m line \u001b[0;36m1\n\u001b[0;32m----> <a href='vscode-notebook-cell:/Users/wjbmattingly/projects/tap-2024-vector-databases/notebooks/03-refining-vector-databases.ipynb#X63sZmlsZQ%3D%3D?line=0'>1</a>\u001b[0m embeddings\u001b[39m.\u001b[39;49mshape\n",
      "\u001b[0;31mAttributeError\u001b[0m: 'Embeddings' object has no attribute 'shape'"
     ]
    }
   ],
   "source": [
    "embeddings.shape"
   ]
  },
  {
   "cell_type": "markdown",
   "id": "e770c8ef",
   "metadata": {},
   "source": [
    "And here is what one of those vectors looks like"
   ]
  },
  {
   "cell_type": "code",
   "execution_count": null,
   "id": "31dd158a",
   "metadata": {},
   "outputs": [],
   "source": [
    "embeddings[0]"
   ]
  },
  {
   "cell_type": "markdown",
   "id": "4defa787",
   "metadata": {},
   "source": [
    "To create the index, we will again use AnnoyIndex."
   ]
  },
  {
   "cell_type": "code",
   "execution_count": null,
   "id": "2e369984",
   "metadata": {},
   "outputs": [],
   "source": [
    "annoy_index = AnnoyIndex(512, metric='angular')"
   ]
  },
  {
   "cell_type": "markdown",
   "id": "bde595b2",
   "metadata": {},
   "source": [
    "Again, we will populate that index with `add_item()`."
   ]
  },
  {
   "cell_type": "code",
   "execution_count": null,
   "id": "11064100",
   "metadata": {},
   "outputs": [],
   "source": [
    "for idx, emb in enumerate(embeddings):\n",
    "    annoy_index.add_item(idx, emb)\n",
    "annoy_index.build(10)"
   ]
  },
  {
   "cell_type": "markdown",
   "id": "0d734827",
   "metadata": {},
   "source": [
    "Now that we have created our index, we need to make sure that we encode our query the same way we encoded our original data."
   ]
  },
  {
   "cell_type": "code",
   "execution_count": null,
   "id": "dfedf321",
   "metadata": {},
   "outputs": [],
   "source": [
    "query_emb = multimodal_model.encode([\"portrait\"], show_progress_bar=True)"
   ]
  },
  {
   "cell_type": "markdown",
   "id": "990a3bee",
   "metadata": {},
   "source": [
    "Now, let's bring this all together. Let's try and find images of a portrait. Try out other searches for a few minutes and see what you notice. I recommend trying the phrase `medieval landscape.`"
   ]
  },
  {
   "cell_type": "code",
   "execution_count": null,
   "id": "d313ca8a",
   "metadata": {},
   "outputs": [],
   "source": [
    "query_emb = multimodal_model.encode([\"portrait\"], show_progress_bar=True)\n",
    "closest_5_idx, closest_5_dist = annoy_index.get_nns_by_vector(query_emb[0], 5,\n",
    "                                        include_distances=True)\n",
    "for idx, dist in zip(closest_5_idx, closest_5_dist):\n",
    "    print(idx, dist)\n",
    "    display(images[idx])"
   ]
  },
  {
   "cell_type": "markdown",
   "id": "916a95cd",
   "metadata": {},
   "source": [
    "This is how we can build a multimodal vector database. Other frameworks, like `txtai` can also do this, but again it's important to be familiar with these steps so that you understand what's happening behind the scenes.\n",
    "\n",
    "But the big question that remains is how we design systems that can be used in production. This is where cloud-based solutions come in. We'll learn about these with Weaviate."
   ]
  },
  {
   "cell_type": "markdown",
   "id": "2685a04e",
   "metadata": {},
   "source": [
    "# Vector Databases in Production\n",
    "\n",
    "If you're new to cloud-based solutions and looking to implement vector databases in production, Weaviate is an excellent option to consider. As an open-source vector database, Weaviate allows you to store, search, and manage vector embeddings efficiently at scale.\n",
    "\n",
    "## Key Features of Weaviate\n",
    "\n",
    "1. Cloud-native architecture: Weaviate is designed to run seamlessly in cloud environments, making it ideal for scalable production deployments.\n",
    "\n",
    "2. Multi-modal data support: It can handle various data types, including text, images, and audio, storing them as vector embeddings.\n",
    "\n",
    "3. RESTful and GraphQL APIs: Weaviate provides intuitive APIs for easy integration with your existing applications.\n",
    "\n",
    "4. Horizontal scalability: As your data and query needs grow, Weaviate can scale horizontally to maintain performance.\n",
    "\n",
    "5. Real-time indexing: New data is immediately available for search and retrieval.\n",
    "\n",
    "## Getting Started with Weaviate\n",
    "\n",
    "To begin using Weaviate in your cloud-based solution:\n",
    "\n",
    "1. Visit the official Weaviate website: https://weaviate.io/\n",
    "\n",
    "2. Check out their comprehensive documentation: https://weaviate.io/developers/weaviate\n",
    "\n",
    "3. For a quick start guide, refer to: https://weaviate.io/developers/weaviate/quickstart\n",
    "\n",
    "4. Explore Weaviate Cloud Services for managed solutions: https://weaviate.io/pricing\n",
    "\n",
    "As you implement Weaviate in your production environment, remember to consider factors such as data security, backup strategies, and monitoring to ensure optimal performance and reliability.\n",
    "\n",
    "## Building a Cluster\n",
    "\n",
    "In order to store data on the cloud, you must have a Weaviate cluster. Fortunately, Weaviate provides a free sandbox that expires after 14 days. It's a good way to prototype for free. Once you have an account, you can build a free cluster from your console dashboard. Follow the steps in this video:\n",
    "\n",
    "![weaviate](../assets/weaviate.gif)\n",
    "\n",
    "\n",
    "The steps in this video are:\n",
    "\n",
    "1. Click \"+ Create Cluster\"\n",
    "2. Name your cluster\n",
    "3. Select a region for your server\n",
    "4. Click `Create`\n",
    "\n",
    "Once your cluster is created, you will have a server address and an API key. These can then be used to populate that cluster with data."
   ]
  },
  {
   "cell_type": "markdown",
   "id": "24d64d69",
   "metadata": {},
   "source": []
  },
  {
   "cell_type": "code",
   "execution_count": 47,
   "id": "c76b18a7",
   "metadata": {},
   "outputs": [
    {
     "name": "stdout",
     "output_type": "stream",
     "text": [
      "True\n"
     ]
    }
   ],
   "source": [
    "import weaviate\n",
    "from weaviate.auth import AuthApiKey\n",
    "\n",
    "# Connect to Weaviate Cloud\n",
    "client = weaviate.connect_to_weaviate_cloud(\n",
    "    cluster_url='',\n",
    "    auth_credentials=AuthApiKey(\"\"),\n",
    ")\n",
    "\n",
    "print(client.is_ready())"
   ]
  },
  {
   "cell_type": "code",
   "execution_count": 49,
   "id": "2e4631d4",
   "metadata": {},
   "outputs": [],
   "source": []
  },
  {
   "cell_type": "code",
   "execution_count": 51,
   "id": "36791f8a",
   "metadata": {},
   "outputs": [],
   "source": [
    "weaviate_model = SentenceTransformer('sentence-transformers/all-MiniLM-L6-v2')"
   ]
  },
  {
   "cell_type": "code",
   "execution_count": 67,
   "id": "b334903e",
   "metadata": {},
   "outputs": [
    {
     "data": {
      "text/plain": [
       "<weaviate.collections.collection.sync.Collection at 0x4aa41fd60>"
      ]
     },
     "execution_count": 67,
     "metadata": {},
     "output_type": "execute_result"
    }
   ],
   "source": [
    "vectors = client.collections.get(\"Vector\")\n",
    "vectors"
   ]
  },
  {
   "cell_type": "code",
   "execution_count": 70,
   "id": "06b7d2c8",
   "metadata": {},
   "outputs": [
    {
     "data": {
      "text/plain": [
       "<weaviate.collections.config.sync._ConfigCollection at 0x4aa396ef0>"
      ]
     },
     "execution_count": 70,
     "metadata": {},
     "output_type": "execute_result"
    }
   ],
   "source": [
    "vectors.config"
   ]
  },
  {
   "cell_type": "code",
   "execution_count": 56,
   "id": "2946746b",
   "metadata": {},
   "outputs": [
    {
     "ename": "AttributeError",
     "evalue": "'Collection' object has no attribute 'near_vector'",
     "output_type": "error",
     "traceback": [
      "\u001b[0;31m---------------------------------------------------------------------------\u001b[0m",
      "\u001b[0;31mAttributeError\u001b[0m                            Traceback (most recent call last)",
      "\u001b[1;32m/Users/wjbmattingly/projects/tap-2024-vector-databases/notebooks/03-refining-vector-databases.ipynb Cell 71\u001b[0m line \u001b[0;36m2\n\u001b[1;32m      <a href='vscode-notebook-cell:/Users/wjbmattingly/projects/tap-2024-vector-databases/notebooks/03-refining-vector-databases.ipynb#Y153sZmlsZQ%3D%3D?line=0'>1</a>\u001b[0m query \u001b[39m=\u001b[39m weaviate_model\u001b[39m.\u001b[39mencode(\u001b[39m\"\u001b[39m\u001b[39mhunger\u001b[39m\u001b[39m\"\u001b[39m)\n\u001b[0;32m----> <a href='vscode-notebook-cell:/Users/wjbmattingly/projects/tap-2024-vector-databases/notebooks/03-refining-vector-databases.ipynb#Y153sZmlsZQ%3D%3D?line=1'>2</a>\u001b[0m result \u001b[39m=\u001b[39m vectors\u001b[39m.\u001b[39;49mnear_vector(query, \u001b[39m\"\u001b[39m\u001b[39mVector\u001b[39m\u001b[39m\"\u001b[39m)\n\u001b[1;32m      <a href='vscode-notebook-cell:/Users/wjbmattingly/projects/tap-2024-vector-databases/notebooks/03-refining-vector-databases.ipynb#Y153sZmlsZQ%3D%3D?line=2'>3</a>\u001b[0m \u001b[39mprint\u001b[39m(result)\n",
      "\u001b[0;31mAttributeError\u001b[0m: 'Collection' object has no attribute 'near_vector'"
     ]
    }
   ],
   "source": [
    "query = weaviate_model.encode(\"hunger\")\n",
    "result = vectors.near_vector(query, \"Vector\")\n",
    "print(result)"
   ]
  },
  {
   "cell_type": "code",
   "execution_count": 58,
   "id": "c442f269",
   "metadata": {},
   "outputs": [
    {
     "ename": "AttributeError",
     "evalue": "'WeaviateClient' object has no attribute 'query'",
     "output_type": "error",
     "traceback": [
      "\u001b[0;31m---------------------------------------------------------------------------\u001b[0m",
      "\u001b[0;31mAttributeError\u001b[0m                            Traceback (most recent call last)",
      "\u001b[1;32m/Users/wjbmattingly/projects/tap-2024-vector-databases/notebooks/03-refining-vector-databases.ipynb Cell 72\u001b[0m line \u001b[0;36m2\n\u001b[1;32m      <a href='vscode-notebook-cell:/Users/wjbmattingly/projects/tap-2024-vector-databases/notebooks/03-refining-vector-databases.ipynb#Y156sZmlsZQ%3D%3D?line=0'>1</a>\u001b[0m result \u001b[39m=\u001b[39m (\n\u001b[0;32m----> <a href='vscode-notebook-cell:/Users/wjbmattingly/projects/tap-2024-vector-databases/notebooks/03-refining-vector-databases.ipynb#Y156sZmlsZQ%3D%3D?line=1'>2</a>\u001b[0m     client\u001b[39m.\u001b[39;49mquery\n\u001b[1;32m      <a href='vscode-notebook-cell:/Users/wjbmattingly/projects/tap-2024-vector-databases/notebooks/03-refining-vector-databases.ipynb#Y156sZmlsZQ%3D%3D?line=2'>3</a>\u001b[0m     \u001b[39m.\u001b[39mget(\u001b[39m\"\u001b[39m\u001b[39mVectors\u001b[39m\u001b[39m\"\u001b[39m)\n\u001b[1;32m      <a href='vscode-notebook-cell:/Users/wjbmattingly/projects/tap-2024-vector-databases/notebooks/03-refining-vector-databases.ipynb#Y156sZmlsZQ%3D%3D?line=3'>4</a>\u001b[0m     \u001b[39m.\u001b[39mwith_near_vector({\n\u001b[1;32m      <a href='vscode-notebook-cell:/Users/wjbmattingly/projects/tap-2024-vector-databases/notebooks/03-refining-vector-databases.ipynb#Y156sZmlsZQ%3D%3D?line=4'>5</a>\u001b[0m         \u001b[39m\"\u001b[39m\u001b[39mvector\u001b[39m\u001b[39m\"\u001b[39m: query,\n\u001b[1;32m      <a href='vscode-notebook-cell:/Users/wjbmattingly/projects/tap-2024-vector-databases/notebooks/03-refining-vector-databases.ipynb#Y156sZmlsZQ%3D%3D?line=5'>6</a>\u001b[0m         \u001b[39m\"\u001b[39m\u001b[39mcertainty\u001b[39m\u001b[39m\"\u001b[39m: \u001b[39m0.7\u001b[39m\n\u001b[1;32m      <a href='vscode-notebook-cell:/Users/wjbmattingly/projects/tap-2024-vector-databases/notebooks/03-refining-vector-databases.ipynb#Y156sZmlsZQ%3D%3D?line=6'>7</a>\u001b[0m     })\n\u001b[1;32m      <a href='vscode-notebook-cell:/Users/wjbmattingly/projects/tap-2024-vector-databases/notebooks/03-refining-vector-databases.ipynb#Y156sZmlsZQ%3D%3D?line=7'>8</a>\u001b[0m     \u001b[39m.\u001b[39mwith_limit(\u001b[39m2\u001b[39m)\n\u001b[1;32m      <a href='vscode-notebook-cell:/Users/wjbmattingly/projects/tap-2024-vector-databases/notebooks/03-refining-vector-databases.ipynb#Y156sZmlsZQ%3D%3D?line=8'>9</a>\u001b[0m     \u001b[39m.\u001b[39mdo()\n\u001b[1;32m     <a href='vscode-notebook-cell:/Users/wjbmattingly/projects/tap-2024-vector-databases/notebooks/03-refining-vector-databases.ipynb#Y156sZmlsZQ%3D%3D?line=9'>10</a>\u001b[0m )\n",
      "\u001b[0;31mAttributeError\u001b[0m: 'WeaviateClient' object has no attribute 'query'"
     ]
    }
   ],
   "source": [
    "result = (\n",
    "    client.query\n",
    "    .get(\"Vectors\")\n",
    "    .with_near_vector({\n",
    "        \"vector\": query,\n",
    "        \"certainty\": 0.7\n",
    "    })\n",
    "    .with_limit(2)\n",
    "    .do()\n",
    ")"
   ]
  },
  {
   "cell_type": "code",
   "execution_count": null,
   "id": "d1bad51d",
   "metadata": {},
   "outputs": [],
   "source": []
  }
 ],
 "metadata": {
  "kernelspec": {
   "display_name": "Python 3 (ipykernel)",
   "language": "python",
   "name": "python3"
  },
  "language_info": {
   "codemirror_mode": {
    "name": "ipython",
    "version": 3
   },
   "file_extension": ".py",
   "mimetype": "text/x-python",
   "name": "python",
   "nbconvert_exporter": "python",
   "pygments_lexer": "ipython3",
   "version": "3.10.14"
  },
  "toc": {
   "base_numbering": 1,
   "nav_menu": {},
   "number_sections": true,
   "sideBar": true,
   "skip_h1_title": false,
   "title_cell": "Table of Contents",
   "title_sidebar": "Contents",
   "toc_cell": false,
   "toc_position": {},
   "toc_section_display": true,
   "toc_window_display": true
  }
 },
 "nbformat": 4,
 "nbformat_minor": 5
}
